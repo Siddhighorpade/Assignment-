{
 "cells": [
  {
   "cell_type": "markdown",
   "id": "5992f314",
   "metadata": {},
   "source": [
    "# Hypothesis Testing"
   ]
  },
  {
   "cell_type": "markdown",
   "id": "2c87b49b",
   "metadata": {},
   "source": [
    "# #Question 1st "
   ]
  },
  {
   "cell_type": "code",
   "execution_count": 1,
   "id": "3f7276ec",
   "metadata": {
    "ExecuteTime": {
     "end_time": "2022-12-30T07:01:04.426105Z",
     "start_time": "2022-12-30T07:01:01.199226Z"
    }
   },
   "outputs": [],
   "source": [
    "import numpy as np\n",
    "import pandas as pd \n",
    "from scipy.stats import  chi2_contingency\n",
    "\n"
   ]
  },
  {
   "cell_type": "code",
   "execution_count": 2,
   "id": "96a8bedf",
   "metadata": {
    "ExecuteTime": {
     "end_time": "2022-12-30T07:01:06.687880Z",
     "start_time": "2022-12-30T07:01:06.627353Z"
    }
   },
   "outputs": [
    {
     "data": {
      "text/html": [
       "<div>\n",
       "<style scoped>\n",
       "    .dataframe tbody tr th:only-of-type {\n",
       "        vertical-align: middle;\n",
       "    }\n",
       "\n",
       "    .dataframe tbody tr th {\n",
       "        vertical-align: top;\n",
       "    }\n",
       "\n",
       "    .dataframe thead th {\n",
       "        text-align: right;\n",
       "    }\n",
       "</style>\n",
       "<table border=\"1\" class=\"dataframe\">\n",
       "  <thead>\n",
       "    <tr style=\"text-align: right;\">\n",
       "      <th></th>\n",
       "      <th>Unit A</th>\n",
       "      <th>Unit B</th>\n",
       "    </tr>\n",
       "  </thead>\n",
       "  <tbody>\n",
       "    <tr>\n",
       "      <th>0</th>\n",
       "      <td>6.8090</td>\n",
       "      <td>6.7703</td>\n",
       "    </tr>\n",
       "    <tr>\n",
       "      <th>1</th>\n",
       "      <td>6.4376</td>\n",
       "      <td>7.5093</td>\n",
       "    </tr>\n",
       "    <tr>\n",
       "      <th>2</th>\n",
       "      <td>6.9157</td>\n",
       "      <td>6.7300</td>\n",
       "    </tr>\n",
       "    <tr>\n",
       "      <th>3</th>\n",
       "      <td>7.3012</td>\n",
       "      <td>6.7878</td>\n",
       "    </tr>\n",
       "    <tr>\n",
       "      <th>4</th>\n",
       "      <td>7.4488</td>\n",
       "      <td>7.1522</td>\n",
       "    </tr>\n",
       "  </tbody>\n",
       "</table>\n",
       "</div>"
      ],
      "text/plain": [
       "   Unit A  Unit B\n",
       "0  6.8090  6.7703\n",
       "1  6.4376  7.5093\n",
       "2  6.9157  6.7300\n",
       "3  7.3012  6.7878\n",
       "4  7.4488  7.1522"
      ]
     },
     "execution_count": 2,
     "metadata": {},
     "output_type": "execute_result"
    }
   ],
   "source": [
    "df = pd.read_csv('Cutlets.csv')\n",
    "df.head()"
   ]
  },
  {
   "cell_type": "code",
   "execution_count": null,
   "id": "5ff11f07",
   "metadata": {},
   "outputs": [],
   "source": [
    "\"it is an two sample t tail test.(two tail test)\"\n",
    "'Null Hypothesis = no difference between daimeter of cutle (diameter of both cutlet are equal')\n",
    "'Alternate Hypothesis = there is a actual difference between daimeter of cutlet(diameter of both cutlet are not equal')\n",
    "'alpha= 0.05"
   ]
  },
  {
   "cell_type": "code",
   "execution_count": 3,
   "id": "8cc5d6b9",
   "metadata": {
    "ExecuteTime": {
     "end_time": "2022-12-30T07:01:35.974089Z",
     "start_time": "2022-12-30T07:01:35.961080Z"
    }
   },
   "outputs": [],
   "source": [
    "from scipy import stats"
   ]
  },
  {
   "cell_type": "code",
   "execution_count": 4,
   "id": "fae5cad2",
   "metadata": {
    "ExecuteTime": {
     "end_time": "2022-12-30T07:01:41.617324Z",
     "start_time": "2022-12-30T07:01:41.589102Z"
    }
   },
   "outputs": [
    {
     "data": {
      "text/plain": [
       "Ttest_indResult(statistic=0.7228688704678063, pvalue=0.4722394724599501)"
      ]
     },
     "execution_count": 4,
     "metadata": {},
     "output_type": "execute_result"
    }
   ],
   "source": [
    "stats.ttest_ind(df['Unit A'],df['Unit B'])"
   ]
  },
  {
   "cell_type": "code",
   "execution_count": null,
   "id": "1fcc5414",
   "metadata": {},
   "outputs": [],
   "source": [
    "# if pvalue is less than alpha = we reject null hypothesis\n",
    "# if pvalue is greater than alpha  = we are failde to reject null hyposthesis(accept alternate hypothesis)"
   ]
  },
  {
   "cell_type": "code",
   "execution_count": null,
   "id": "5e80b245",
   "metadata": {},
   "outputs": [],
   "source": [
    "# so according to Hypothesis rule\n",
    "#   p value = 0.047 & alpha = 0.05 it means p value for these problem statement is less than alpha so we reject null hypothesis it means there is a actual significance difference between the diameter of cutlet of these two sample."
   ]
  },
  {
   "cell_type": "markdown",
   "id": "482cd72c",
   "metadata": {},
   "source": [
    "# the diameter of the cutlet of two units (unit A, unit B) are not equal. there is a actual  Significance difference between their diameter."
   ]
  },
  {
   "cell_type": "markdown",
   "id": "6cd97ee9",
   "metadata": {},
   "source": [
    "# Question 2"
   ]
  },
  {
   "cell_type": "code",
   "execution_count": 5,
   "id": "7cd9b7d6",
   "metadata": {
    "ExecuteTime": {
     "end_time": "2022-12-30T07:02:39.756322Z",
     "start_time": "2022-12-30T07:02:39.731467Z"
    }
   },
   "outputs": [],
   "source": [
    " lab= pd.read_csv('LabTAT.csv')"
   ]
  },
  {
   "cell_type": "code",
   "execution_count": 6,
   "id": "aa1fd5ec",
   "metadata": {
    "ExecuteTime": {
     "end_time": "2022-12-30T07:02:42.022534Z",
     "start_time": "2022-12-30T07:02:42.002823Z"
    }
   },
   "outputs": [
    {
     "data": {
      "text/html": [
       "<div>\n",
       "<style scoped>\n",
       "    .dataframe tbody tr th:only-of-type {\n",
       "        vertical-align: middle;\n",
       "    }\n",
       "\n",
       "    .dataframe tbody tr th {\n",
       "        vertical-align: top;\n",
       "    }\n",
       "\n",
       "    .dataframe thead th {\n",
       "        text-align: right;\n",
       "    }\n",
       "</style>\n",
       "<table border=\"1\" class=\"dataframe\">\n",
       "  <thead>\n",
       "    <tr style=\"text-align: right;\">\n",
       "      <th></th>\n",
       "      <th>Laboratory 1</th>\n",
       "      <th>Laboratory 2</th>\n",
       "      <th>Laboratory 3</th>\n",
       "      <th>Laboratory 4</th>\n",
       "    </tr>\n",
       "  </thead>\n",
       "  <tbody>\n",
       "    <tr>\n",
       "      <th>0</th>\n",
       "      <td>185.35</td>\n",
       "      <td>165.53</td>\n",
       "      <td>176.70</td>\n",
       "      <td>166.13</td>\n",
       "    </tr>\n",
       "    <tr>\n",
       "      <th>1</th>\n",
       "      <td>170.49</td>\n",
       "      <td>185.91</td>\n",
       "      <td>198.45</td>\n",
       "      <td>160.79</td>\n",
       "    </tr>\n",
       "    <tr>\n",
       "      <th>2</th>\n",
       "      <td>192.77</td>\n",
       "      <td>194.92</td>\n",
       "      <td>201.23</td>\n",
       "      <td>185.18</td>\n",
       "    </tr>\n",
       "    <tr>\n",
       "      <th>3</th>\n",
       "      <td>177.33</td>\n",
       "      <td>183.00</td>\n",
       "      <td>199.61</td>\n",
       "      <td>176.42</td>\n",
       "    </tr>\n",
       "    <tr>\n",
       "      <th>4</th>\n",
       "      <td>193.41</td>\n",
       "      <td>169.57</td>\n",
       "      <td>204.63</td>\n",
       "      <td>152.60</td>\n",
       "    </tr>\n",
       "  </tbody>\n",
       "</table>\n",
       "</div>"
      ],
      "text/plain": [
       "   Laboratory 1  Laboratory 2  Laboratory 3  Laboratory 4\n",
       "0        185.35        165.53        176.70        166.13\n",
       "1        170.49        185.91        198.45        160.79\n",
       "2        192.77        194.92        201.23        185.18\n",
       "3        177.33        183.00        199.61        176.42\n",
       "4        193.41        169.57        204.63        152.60"
      ]
     },
     "execution_count": 6,
     "metadata": {},
     "output_type": "execute_result"
    }
   ],
   "source": [
    "lab.head()"
   ]
  },
  {
   "cell_type": "code",
   "execution_count": 7,
   "id": "02acf6aa",
   "metadata": {
    "ExecuteTime": {
     "end_time": "2022-12-30T07:02:50.619065Z",
     "start_time": "2022-12-30T07:02:50.597806Z"
    }
   },
   "outputs": [
    {
     "data": {
      "text/plain": [
       "(120, 4)"
      ]
     },
     "execution_count": 7,
     "metadata": {},
     "output_type": "execute_result"
    }
   ],
   "source": [
    "lab.shape"
   ]
  },
  {
   "cell_type": "code",
   "execution_count": null,
   "id": "4c1604d9",
   "metadata": {},
   "outputs": [],
   "source": [
    "# it is an example of multiple sample so we use Anova test here.\n",
    "#"
   ]
  },
  {
   "cell_type": "code",
   "execution_count": null,
   "id": "b6f7aa90",
   "metadata": {},
   "outputs": [],
   "source": [
    "\" H0 = the time taken by all laboratories are eual\"\n",
    "\" Ha = the tiem taken by all laboratories are not equal it means time for atleast one lab is different\"\n"
   ]
  },
  {
   "cell_type": "code",
   "execution_count": 8,
   "id": "a5c0b394",
   "metadata": {
    "ExecuteTime": {
     "end_time": "2022-12-30T07:03:02.663790Z",
     "start_time": "2022-12-30T07:03:02.642656Z"
    }
   },
   "outputs": [
    {
     "data": {
      "text/plain": [
       "F_onewayResult(statistic=118.70421654401437, pvalue=2.1156708949992414e-57)"
      ]
     },
     "execution_count": 8,
     "metadata": {},
     "output_type": "execute_result"
    }
   ],
   "source": [
    "stats.f_oneway(lab.iloc[:,0],lab.iloc[:,1],lab.iloc[:,2],lab.iloc[:,3])"
   ]
  },
  {
   "cell_type": "code",
   "execution_count": null,
   "id": "3056f7ba",
   "metadata": {},
   "outputs": [],
   "source": [
    "# applying hypothesis rule\n",
    "\" p value = 0.0 & alpha = 0.05  pvlaue is less than alpha so we reject null hypothesis it means the time taken by these all four laboratories is different.\""
   ]
  },
  {
   "cell_type": "markdown",
   "id": "9a853abe",
   "metadata": {},
   "source": [
    "# the time taken by all these 4 laboratories is different."
   ]
  },
  {
   "cell_type": "markdown",
   "id": "cf919bc8",
   "metadata": {},
   "source": [
    "#  Question 3\n"
   ]
  },
  {
   "cell_type": "code",
   "execution_count": 9,
   "id": "388bf4e3",
   "metadata": {
    "ExecuteTime": {
     "end_time": "2022-12-30T07:03:33.858761Z",
     "start_time": "2022-12-30T07:03:33.840264Z"
    }
   },
   "outputs": [
    {
     "data": {
      "text/plain": [
       "'  Chi square test with Significance value = 0.05'"
      ]
     },
     "execution_count": 9,
     "metadata": {},
     "output_type": "execute_result"
    }
   ],
   "source": [
    "# it is an equality test . so me use chi square test\n",
    "'  Chi square test with Significance value = 0.05'"
   ]
  },
  {
   "cell_type": "code",
   "execution_count": 10,
   "id": "333ac9df",
   "metadata": {
    "ExecuteTime": {
     "end_time": "2022-12-30T07:03:38.345099Z",
     "start_time": "2022-12-30T07:03:38.329762Z"
    }
   },
   "outputs": [],
   "source": [
    "BuyerRation= pd.read_csv('BuyerRatio (1).csv')"
   ]
  },
  {
   "cell_type": "code",
   "execution_count": 11,
   "id": "90874f07",
   "metadata": {
    "ExecuteTime": {
     "end_time": "2022-12-30T07:03:41.644662Z",
     "start_time": "2022-12-30T07:03:41.617839Z"
    }
   },
   "outputs": [
    {
     "data": {
      "text/html": [
       "<div>\n",
       "<style scoped>\n",
       "    .dataframe tbody tr th:only-of-type {\n",
       "        vertical-align: middle;\n",
       "    }\n",
       "\n",
       "    .dataframe tbody tr th {\n",
       "        vertical-align: top;\n",
       "    }\n",
       "\n",
       "    .dataframe thead th {\n",
       "        text-align: right;\n",
       "    }\n",
       "</style>\n",
       "<table border=\"1\" class=\"dataframe\">\n",
       "  <thead>\n",
       "    <tr style=\"text-align: right;\">\n",
       "      <th></th>\n",
       "      <th>Observed Values</th>\n",
       "      <th>East</th>\n",
       "      <th>West</th>\n",
       "      <th>North</th>\n",
       "      <th>South</th>\n",
       "    </tr>\n",
       "  </thead>\n",
       "  <tbody>\n",
       "    <tr>\n",
       "      <th>0</th>\n",
       "      <td>Males</td>\n",
       "      <td>50</td>\n",
       "      <td>142</td>\n",
       "      <td>131</td>\n",
       "      <td>70</td>\n",
       "    </tr>\n",
       "    <tr>\n",
       "      <th>1</th>\n",
       "      <td>Females</td>\n",
       "      <td>435</td>\n",
       "      <td>1523</td>\n",
       "      <td>1356</td>\n",
       "      <td>750</td>\n",
       "    </tr>\n",
       "  </tbody>\n",
       "</table>\n",
       "</div>"
      ],
      "text/plain": [
       "  Observed Values  East  West  North  South\n",
       "0           Males    50   142    131     70\n",
       "1         Females   435  1523   1356    750"
      ]
     },
     "execution_count": 11,
     "metadata": {},
     "output_type": "execute_result"
    }
   ],
   "source": [
    "BuyerRation"
   ]
  },
  {
   "cell_type": "code",
   "execution_count": 12,
   "id": "0d3b63a9",
   "metadata": {
    "ExecuteTime": {
     "end_time": "2022-12-30T07:03:46.782157Z",
     "start_time": "2022-12-30T07:03:46.766529Z"
    }
   },
   "outputs": [],
   "source": [
    "dataarry = np.array([[50,142,131,70],[435,1523,1356,750]])"
   ]
  },
  {
   "cell_type": "code",
   "execution_count": 13,
   "id": "92442628",
   "metadata": {
    "ExecuteTime": {
     "end_time": "2022-12-30T07:03:49.241492Z",
     "start_time": "2022-12-30T07:03:49.223419Z"
    }
   },
   "outputs": [
    {
     "data": {
      "text/plain": [
       "array([[  50,  142,  131,   70],\n",
       "       [ 435, 1523, 1356,  750]])"
      ]
     },
     "execution_count": 13,
     "metadata": {},
     "output_type": "execute_result"
    }
   ],
   "source": [
    "dataarry"
   ]
  },
  {
   "cell_type": "code",
   "execution_count": 14,
   "id": "1fe101ac",
   "metadata": {
    "ExecuteTime": {
     "end_time": "2022-12-30T07:03:52.390107Z",
     "start_time": "2022-12-30T07:03:52.370874Z"
    }
   },
   "outputs": [
    {
     "data": {
      "text/plain": [
       "(1.595945538661058,\n",
       " 0.6603094907091882,\n",
       " 3,\n",
       " array([[  42.76531299,  146.81287862,  131.11756787,   72.30424052],\n",
       "        [ 442.23468701, 1518.18712138, 1355.88243213,  747.69575948]]))"
      ]
     },
     "execution_count": 14,
     "metadata": {},
     "output_type": "execute_result"
    }
   ],
   "source": [
    "chi2_contingency(dataarry)"
   ]
  },
  {
   "cell_type": "markdown",
   "id": "3178267c",
   "metadata": {},
   "source": [
    "  chi2 stats vlaue = 1.59 / p_value = 0.66 / df= 3"
   ]
  },
  {
   "cell_type": "code",
   "execution_count": 15,
   "id": "4df46896",
   "metadata": {
    "ExecuteTime": {
     "end_time": "2022-12-30T07:04:01.462535Z",
     "start_time": "2022-12-30T07:04:01.450041Z"
    }
   },
   "outputs": [
    {
     "data": {
      "text/plain": [
       "' it means the proportion of female and male is equal.'"
      ]
     },
     "execution_count": 15,
     "metadata": {},
     "output_type": "execute_result"
    }
   ],
   "source": [
    "# p value is greter than alpha so is less than pvalue\n",
    "\n",
    "\" failed to reject null hypothesis. (Accept Null hypothesis)\"\n",
    "\n",
    "' it means the proportion of female and male is equal.'"
   ]
  },
  {
   "cell_type": "markdown",
   "id": "f3016db9",
   "metadata": {},
   "source": [
    "# # Question  4"
   ]
  },
  {
   "cell_type": "code",
   "execution_count": null,
   "id": "e1c3b66b",
   "metadata": {},
   "outputs": [],
   "source": [
    "'H0 = the defective error of  all 4 center is same\n",
    "ha = the defective error of all 4 center is different(at lest defective error of one center is different)'"
   ]
  },
  {
   "cell_type": "code",
   "execution_count": 16,
   "id": "bc7cc699",
   "metadata": {
    "ExecuteTime": {
     "end_time": "2022-12-30T07:04:45.312234Z",
     "start_time": "2022-12-30T07:04:45.300544Z"
    }
   },
   "outputs": [],
   "source": [
    "customerdata  = pd.read_csv('Costomer+OrderForm.csv')"
   ]
  },
  {
   "cell_type": "code",
   "execution_count": 17,
   "id": "f0fe7876",
   "metadata": {
    "ExecuteTime": {
     "end_time": "2022-12-30T07:04:47.232686Z",
     "start_time": "2022-12-30T07:04:47.205449Z"
    }
   },
   "outputs": [
    {
     "data": {
      "text/html": [
       "<div>\n",
       "<style scoped>\n",
       "    .dataframe tbody tr th:only-of-type {\n",
       "        vertical-align: middle;\n",
       "    }\n",
       "\n",
       "    .dataframe tbody tr th {\n",
       "        vertical-align: top;\n",
       "    }\n",
       "\n",
       "    .dataframe thead th {\n",
       "        text-align: right;\n",
       "    }\n",
       "</style>\n",
       "<table border=\"1\" class=\"dataframe\">\n",
       "  <thead>\n",
       "    <tr style=\"text-align: right;\">\n",
       "      <th></th>\n",
       "      <th>Phillippines</th>\n",
       "      <th>Indonesia</th>\n",
       "      <th>Malta</th>\n",
       "      <th>India</th>\n",
       "    </tr>\n",
       "  </thead>\n",
       "  <tbody>\n",
       "    <tr>\n",
       "      <th>0</th>\n",
       "      <td>Error Free</td>\n",
       "      <td>Error Free</td>\n",
       "      <td>Defective</td>\n",
       "      <td>Error Free</td>\n",
       "    </tr>\n",
       "    <tr>\n",
       "      <th>1</th>\n",
       "      <td>Error Free</td>\n",
       "      <td>Error Free</td>\n",
       "      <td>Error Free</td>\n",
       "      <td>Defective</td>\n",
       "    </tr>\n",
       "    <tr>\n",
       "      <th>2</th>\n",
       "      <td>Error Free</td>\n",
       "      <td>Defective</td>\n",
       "      <td>Defective</td>\n",
       "      <td>Error Free</td>\n",
       "    </tr>\n",
       "    <tr>\n",
       "      <th>3</th>\n",
       "      <td>Error Free</td>\n",
       "      <td>Error Free</td>\n",
       "      <td>Error Free</td>\n",
       "      <td>Error Free</td>\n",
       "    </tr>\n",
       "    <tr>\n",
       "      <th>4</th>\n",
       "      <td>Error Free</td>\n",
       "      <td>Error Free</td>\n",
       "      <td>Defective</td>\n",
       "      <td>Error Free</td>\n",
       "    </tr>\n",
       "    <tr>\n",
       "      <th>...</th>\n",
       "      <td>...</td>\n",
       "      <td>...</td>\n",
       "      <td>...</td>\n",
       "      <td>...</td>\n",
       "    </tr>\n",
       "    <tr>\n",
       "      <th>295</th>\n",
       "      <td>Error Free</td>\n",
       "      <td>Error Free</td>\n",
       "      <td>Error Free</td>\n",
       "      <td>Error Free</td>\n",
       "    </tr>\n",
       "    <tr>\n",
       "      <th>296</th>\n",
       "      <td>Error Free</td>\n",
       "      <td>Error Free</td>\n",
       "      <td>Error Free</td>\n",
       "      <td>Error Free</td>\n",
       "    </tr>\n",
       "    <tr>\n",
       "      <th>297</th>\n",
       "      <td>Error Free</td>\n",
       "      <td>Error Free</td>\n",
       "      <td>Defective</td>\n",
       "      <td>Error Free</td>\n",
       "    </tr>\n",
       "    <tr>\n",
       "      <th>298</th>\n",
       "      <td>Error Free</td>\n",
       "      <td>Error Free</td>\n",
       "      <td>Error Free</td>\n",
       "      <td>Error Free</td>\n",
       "    </tr>\n",
       "    <tr>\n",
       "      <th>299</th>\n",
       "      <td>Error Free</td>\n",
       "      <td>Defective</td>\n",
       "      <td>Defective</td>\n",
       "      <td>Error Free</td>\n",
       "    </tr>\n",
       "  </tbody>\n",
       "</table>\n",
       "<p>300 rows × 4 columns</p>\n",
       "</div>"
      ],
      "text/plain": [
       "    Phillippines   Indonesia       Malta       India\n",
       "0     Error Free  Error Free   Defective  Error Free\n",
       "1     Error Free  Error Free  Error Free   Defective\n",
       "2     Error Free   Defective   Defective  Error Free\n",
       "3     Error Free  Error Free  Error Free  Error Free\n",
       "4     Error Free  Error Free   Defective  Error Free\n",
       "..           ...         ...         ...         ...\n",
       "295   Error Free  Error Free  Error Free  Error Free\n",
       "296   Error Free  Error Free  Error Free  Error Free\n",
       "297   Error Free  Error Free   Defective  Error Free\n",
       "298   Error Free  Error Free  Error Free  Error Free\n",
       "299   Error Free   Defective   Defective  Error Free\n",
       "\n",
       "[300 rows x 4 columns]"
      ]
     },
     "execution_count": 17,
     "metadata": {},
     "output_type": "execute_result"
    }
   ],
   "source": [
    "customerdata"
   ]
  },
  {
   "cell_type": "code",
   "execution_count": 18,
   "id": "0cef0139",
   "metadata": {
    "ExecuteTime": {
     "end_time": "2022-12-30T07:04:55.278172Z",
     "start_time": "2022-12-30T07:04:55.237632Z"
    }
   },
   "outputs": [
    {
     "data": {
      "text/html": [
       "<div>\n",
       "<style scoped>\n",
       "    .dataframe tbody tr th:only-of-type {\n",
       "        vertical-align: middle;\n",
       "    }\n",
       "\n",
       "    .dataframe tbody tr th {\n",
       "        vertical-align: top;\n",
       "    }\n",
       "\n",
       "    .dataframe thead th {\n",
       "        text-align: right;\n",
       "    }\n",
       "</style>\n",
       "<table border=\"1\" class=\"dataframe\">\n",
       "  <thead>\n",
       "    <tr style=\"text-align: right;\">\n",
       "      <th></th>\n",
       "      <th>Phillippines</th>\n",
       "      <th>Indonesia</th>\n",
       "      <th>Malta</th>\n",
       "      <th>India</th>\n",
       "    </tr>\n",
       "  </thead>\n",
       "  <tbody>\n",
       "    <tr>\n",
       "      <th>count</th>\n",
       "      <td>300</td>\n",
       "      <td>300</td>\n",
       "      <td>300</td>\n",
       "      <td>300</td>\n",
       "    </tr>\n",
       "    <tr>\n",
       "      <th>unique</th>\n",
       "      <td>2</td>\n",
       "      <td>2</td>\n",
       "      <td>2</td>\n",
       "      <td>2</td>\n",
       "    </tr>\n",
       "    <tr>\n",
       "      <th>top</th>\n",
       "      <td>Error Free</td>\n",
       "      <td>Error Free</td>\n",
       "      <td>Error Free</td>\n",
       "      <td>Error Free</td>\n",
       "    </tr>\n",
       "    <tr>\n",
       "      <th>freq</th>\n",
       "      <td>271</td>\n",
       "      <td>267</td>\n",
       "      <td>269</td>\n",
       "      <td>280</td>\n",
       "    </tr>\n",
       "  </tbody>\n",
       "</table>\n",
       "</div>"
      ],
      "text/plain": [
       "       Phillippines   Indonesia       Malta       India\n",
       "count           300         300         300         300\n",
       "unique            2           2           2           2\n",
       "top      Error Free  Error Free  Error Free  Error Free\n",
       "freq            271         267         269         280"
      ]
     },
     "execution_count": 18,
     "metadata": {},
     "output_type": "execute_result"
    }
   ],
   "source": [
    "customerdata.describe()"
   ]
  },
  {
   "cell_type": "code",
   "execution_count": 19,
   "id": "33be84f3",
   "metadata": {
    "ExecuteTime": {
     "end_time": "2022-12-30T07:05:08.980289Z",
     "start_time": "2022-12-30T07:05:08.967361Z"
    }
   },
   "outputs": [
    {
     "data": {
      "text/plain": [
       "Error Free    271\n",
       "Defective      29\n",
       "Name: Phillippines, dtype: int64"
      ]
     },
     "execution_count": 19,
     "metadata": {},
     "output_type": "execute_result"
    }
   ],
   "source": [
    "customerdata.Phillippines.value_counts()\n",
    "\n",
    "\n"
   ]
  },
  {
   "cell_type": "code",
   "execution_count": 20,
   "id": "3d7e8439",
   "metadata": {
    "ExecuteTime": {
     "end_time": "2022-12-30T07:05:10.223365Z",
     "start_time": "2022-12-30T07:05:10.213070Z"
    }
   },
   "outputs": [
    {
     "data": {
      "text/plain": [
       "Error Free    267\n",
       "Defective      33\n",
       "Name: Indonesia, dtype: int64"
      ]
     },
     "execution_count": 20,
     "metadata": {},
     "output_type": "execute_result"
    }
   ],
   "source": [
    "customerdata.Indonesia.value_counts()"
   ]
  },
  {
   "cell_type": "code",
   "execution_count": 21,
   "id": "343ed8a4",
   "metadata": {
    "ExecuteTime": {
     "end_time": "2022-12-30T07:05:11.594290Z",
     "start_time": "2022-12-30T07:05:11.578173Z"
    }
   },
   "outputs": [
    {
     "data": {
      "text/plain": [
       "Error Free    269\n",
       "Defective      31\n",
       "Name: Malta, dtype: int64"
      ]
     },
     "execution_count": 21,
     "metadata": {},
     "output_type": "execute_result"
    }
   ],
   "source": [
    "customerdata.Malta.value_counts()"
   ]
  },
  {
   "cell_type": "code",
   "execution_count": 22,
   "id": "056ff3b7",
   "metadata": {
    "ExecuteTime": {
     "end_time": "2022-12-30T07:05:13.129322Z",
     "start_time": "2022-12-30T07:05:13.109118Z"
    }
   },
   "outputs": [
    {
     "data": {
      "text/plain": [
       "Error Free    280\n",
       "Defective      20\n",
       "Name: India, dtype: int64"
      ]
     },
     "execution_count": 22,
     "metadata": {},
     "output_type": "execute_result"
    }
   ],
   "source": [
    "customerdata.India.value_counts()"
   ]
  },
  {
   "cell_type": "code",
   "execution_count": 23,
   "id": "a5319806",
   "metadata": {
    "ExecuteTime": {
     "end_time": "2022-12-30T07:05:14.281237Z",
     "start_time": "2022-12-30T07:05:14.266728Z"
    }
   },
   "outputs": [
    {
     "data": {
      "text/plain": [
       "array([[271, 267, 269, 280],\n",
       "       [ 29,  33,  31,  20]])"
      ]
     },
     "execution_count": 23,
     "metadata": {},
     "output_type": "execute_result"
    }
   ],
   "source": [
    "customerorderarray =np.array([[271,267,269,280],[29,33,31,20]])\n",
    "customerorderarray"
   ]
  },
  {
   "cell_type": "code",
   "execution_count": 24,
   "id": "b0609260",
   "metadata": {
    "ExecuteTime": {
     "end_time": "2022-12-30T07:05:16.827831Z",
     "start_time": "2022-12-30T07:05:16.812206Z"
    }
   },
   "outputs": [
    {
     "data": {
      "text/plain": [
       "(3.858960685820355,\n",
       " 0.2771020991233135,\n",
       " 3,\n",
       " array([[271.75, 271.75, 271.75, 271.75],\n",
       "        [ 28.25,  28.25,  28.25,  28.25]]))"
      ]
     },
     "execution_count": 24,
     "metadata": {},
     "output_type": "execute_result"
    }
   ],
   "source": [
    "chi2_contingency(customerorderarray)"
   ]
  },
  {
   "cell_type": "code",
   "execution_count": 25,
   "id": "22c32502",
   "metadata": {
    "ExecuteTime": {
     "end_time": "2022-12-30T07:10:39.922893Z",
     "start_time": "2022-12-30T07:10:39.899022Z"
    }
   },
   "outputs": [
    {
     "data": {
      "text/plain": [
       "'chi2 stats = 3.85 / p_value = 0.27 / df = 3'"
      ]
     },
     "execution_count": 25,
     "metadata": {},
     "output_type": "execute_result"
    }
   ],
   "source": [
    "\"chi2 stats = 3.85 / p_value = 0.27 / df = 3\""
   ]
  },
  {
   "cell_type": "code",
   "execution_count": null,
   "id": "dde96557",
   "metadata": {},
   "outputs": [],
   "source": [
    "# alpha = 0.05 \n",
    "#  p_value  is less than 0.05 so reject null hypothesis.\""
   ]
  },
  {
   "cell_type": "markdown",
   "id": "4ee9b18c",
   "metadata": {},
   "source": [
    "##  the defective error of all these 4 center is different."
   ]
  },
  {
   "cell_type": "code",
   "execution_count": null,
   "id": "a373a9f3",
   "metadata": {},
   "outputs": [],
   "source": []
  }
 ],
 "metadata": {
  "_draft": {
   "nbviewer_url": "https://gist.github.com/e5818ec2c1cfcea7115fe48206acaacc"
  },
  "gist": {
   "data": {
    "description": "Hypothsis Testing Assignment.ipynb",
    "public": true
   },
   "id": "e5818ec2c1cfcea7115fe48206acaacc"
  },
  "kernelspec": {
   "display_name": "Python 3 (ipykernel)",
   "language": "python",
   "name": "python3"
  },
  "language_info": {
   "codemirror_mode": {
    "name": "ipython",
    "version": 3
   },
   "file_extension": ".py",
   "mimetype": "text/x-python",
   "name": "python",
   "nbconvert_exporter": "python",
   "pygments_lexer": "ipython3",
   "version": "3.9.13"
  }
 },
 "nbformat": 4,
 "nbformat_minor": 5
}
